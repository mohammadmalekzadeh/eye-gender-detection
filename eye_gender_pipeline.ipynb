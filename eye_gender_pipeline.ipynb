{
 "cells": [
  {
   "cell_type": "markdown",
   "id": "a12884cc",
   "metadata": {},
   "source": [
    "### Importing local modules"
   ]
  },
  {
   "cell_type": "code",
   "execution_count": 1,
   "id": "51109ae6",
   "metadata": {},
   "outputs": [],
   "source": [
    "from src.utlis import BASE_DIR\n",
    "from src.preprocessing.label_creator import label_creator\n",
    "from src.preprocessing.image_processing import ImagePreprocessor\n",
    "from src.preprocessing.feature_extractor import FeatureExtractor\n",
    "from src.preprocessing.generate_dataset import generate_dataset\n",
    "from src.preprocessing.raw_data_processing import DataProcessing\n",
    "from src.model.train import design_train_save_model\n",
    "from src.model.evaluate import select_best_model"
   ]
  },
  {
   "cell_type": "markdown",
   "id": "df126621",
   "metadata": {},
   "source": [
    "### Preprocessing"
   ]
  },
  {
   "cell_type": "code",
   "execution_count": 2,
   "id": "eba0cef8",
   "metadata": {},
   "outputs": [
    {
     "name": "stdout",
     "output_type": "stream",
     "text": [
      "[!] Images label saved to d:\\Programming\\My Projects\\eye-gender-detection/data/labels.csv\n"
     ]
    }
   ],
   "source": [
    "# create label dataset for images\n",
    "label_creator()"
   ]
  },
  {
   "cell_type": "code",
   "execution_count": 3,
   "id": "16a91cd5",
   "metadata": {},
   "outputs": [
    {
     "name": "stdout",
     "output_type": "stream",
     "text": [
      "[!] Processing images...\n"
     ]
    },
    {
     "name": "stderr",
     "output_type": "stream",
     "text": [
      "100%|██████████| 11525/11525 [15:47<00:00, 12.16it/s]\n"
     ]
    },
    {
     "name": "stdout",
     "output_type": "stream",
     "text": [
      "[!] Processed data saved to: d:\\Programming\\My Projects\\eye-gender-detection/data/raw/raw_data.csv\n"
     ]
    }
   ],
   "source": [
    "# image processing, feature extraction and create raw dataset\n",
    "generate_dataset()"
   ]
  },
  {
   "cell_type": "code",
   "execution_count": 4,
   "id": "b14d2f8d",
   "metadata": {},
   "outputs": [
    {
     "name": "stdout",
     "output_type": "stream",
     "text": [
      "[!] Handling missing values was Done\n",
      "[!] Splitting of test and train data was done\n",
      "[!] Standardization was Done\n",
      "[!] train_df, test_df and y_true Saved\n"
     ]
    }
   ],
   "source": [
    "# data processing and split train test data\n",
    "data_processing = DataProcessing(n_components=100)\n",
    "data_processing.transform()"
   ]
  },
  {
   "cell_type": "markdown",
   "id": "fc29d61f",
   "metadata": {},
   "source": [
    "### Model design and Model training"
   ]
  },
  {
   "cell_type": "code",
   "execution_count": 2,
   "id": "98c1d75c",
   "metadata": {},
   "outputs": [
    {
     "name": "stdout",
     "output_type": "stream",
     "text": [
      "[!] Training: Logistic Regression\n",
      "[!] Logistic Regression was trained and saved\n",
      "[!] Training: Random Forest\n",
      "[!] Random Forest was trained and saved\n",
      "[!] Training: SVM\n",
      "[!] SVM was trained and saved\n",
      "[!] Training: Naive Bayes\n",
      "[!] Naive Bayes was trained and saved\n",
      "[!] Training: KNN\n",
      "[!] KNN was trained and saved\n",
      "[!] Training: MLP\n",
      "[!] MLP was trained and saved\n",
      "[!] Training: XGBoost\n",
      "[!] XGBoost was trained and saved\n",
      "[!] Training: LightGBM\n",
      "[LightGBM] [Info] Number of positive: 2851, number of negative: 2355\n",
      "[LightGBM] [Info] Auto-choosing col-wise multi-threading, the overhead of testing was 0.010652 seconds.\n",
      "You can set `force_col_wise=true` to remove the overhead.\n",
      "[LightGBM] [Info] Total Bins 25500\n",
      "[LightGBM] [Info] Number of data points in the train set: 5206, number of used features: 100\n",
      "[LightGBM] [Info] [binary:BoostFromScore]: pavg=0.547637 -> initscore=0.191129\n",
      "[LightGBM] [Info] Start training from score 0.191129\n",
      "[!] LightGBM was trained and saved\n",
      "[!] Models scores saved\n"
     ]
    }
   ],
   "source": [
    "# design, train and save models\n",
    "design_train_save_model()"
   ]
  },
  {
   "cell_type": "markdown",
   "id": "794d24a9",
   "metadata": {},
   "source": [
    "### Model evaluation and Choose best model"
   ]
  },
  {
   "cell_type": "code",
   "execution_count": 3,
   "id": "6e1405c0",
   "metadata": {},
   "outputs": [
    {
     "name": "stdout",
     "output_type": "stream",
     "text": [
      "[!] Best Model Selected Based on Aveage Metrics\n",
      "[!] Model\t=> SVM\n",
      "[!] Accuracy\t=> 78.047%\n",
      "[!] Precision\t=> 77.854%\n",
      "[!] Recall\t=> 83.715%\n",
      "[!] F1 Score\t=> 77.921%\n",
      "[!] ROC AUC\t=> 85.699%\n"
     ]
    }
   ],
   "source": [
    "# select best model\n",
    "select_best_model()"
   ]
  },
  {
   "cell_type": "markdown",
   "id": "e116b402",
   "metadata": {},
   "source": [
    "### Prediction"
   ]
  },
  {
   "cell_type": "code",
   "execution_count": null,
   "id": "925f4d7e",
   "metadata": {},
   "outputs": [],
   "source": [
    "# COMING SOON..."
   ]
  }
 ],
 "metadata": {
  "kernelspec": {
   "display_name": "Python 3",
   "language": "python",
   "name": "python3"
  },
  "language_info": {
   "codemirror_mode": {
    "name": "ipython",
    "version": 3
   },
   "file_extension": ".py",
   "mimetype": "text/x-python",
   "name": "python",
   "nbconvert_exporter": "python",
   "pygments_lexer": "ipython3",
   "version": "3.11.2"
  }
 },
 "nbformat": 4,
 "nbformat_minor": 5
}
