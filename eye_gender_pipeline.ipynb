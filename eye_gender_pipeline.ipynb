{
 "cells": [
  {
   "cell_type": "markdown",
   "id": "a12884cc",
   "metadata": {},
   "source": [
    "### Importing local modules"
   ]
  },
  {
   "cell_type": "code",
   "execution_count": 3,
   "id": "51109ae6",
   "metadata": {},
   "outputs": [],
   "source": [
    "from src.utlis import BASE_DIR\n",
    "from src.preprocessing.label_creator import label_creator"
   ]
  },
  {
   "cell_type": "markdown",
   "id": "df126621",
   "metadata": {},
   "source": [
    "### Preprocessing"
   ]
  },
  {
   "cell_type": "code",
   "execution_count": null,
   "id": "eba0cef8",
   "metadata": {},
   "outputs": [
    {
     "data": {
      "text/plain": [
       "'[!] Images have been successfully labeled'"
      ]
     },
     "execution_count": 4,
     "metadata": {},
     "output_type": "execute_result"
    }
   ],
   "source": [
    "label_creator()\n",
    "\n",
    "# AND MORE..."
   ]
  },
  {
   "cell_type": "markdown",
   "id": "fc29d61f",
   "metadata": {},
   "source": [
    "### Model design"
   ]
  },
  {
   "cell_type": "code",
   "execution_count": null,
   "id": "98c1d75c",
   "metadata": {},
   "outputs": [],
   "source": [
    "# COMING SOON..."
   ]
  },
  {
   "cell_type": "markdown",
   "id": "5b02ac21",
   "metadata": {},
   "source": [
    "### Model training"
   ]
  },
  {
   "cell_type": "code",
   "execution_count": null,
   "id": "6e1405c0",
   "metadata": {},
   "outputs": [],
   "source": [
    "# COMING SOON..."
   ]
  },
  {
   "cell_type": "markdown",
   "id": "794d24a9",
   "metadata": {},
   "source": [
    "### Model evaluation"
   ]
  },
  {
   "cell_type": "code",
   "execution_count": null,
   "id": "0399db77",
   "metadata": {},
   "outputs": [],
   "source": [
    "# COMING SOON..."
   ]
  },
  {
   "cell_type": "markdown",
   "id": "e116b402",
   "metadata": {},
   "source": [
    "### Prediction"
   ]
  },
  {
   "cell_type": "code",
   "execution_count": null,
   "id": "925f4d7e",
   "metadata": {},
   "outputs": [],
   "source": [
    "# COMING SOON..."
   ]
  }
 ],
 "metadata": {
  "kernelspec": {
   "display_name": "Python 3",
   "language": "python",
   "name": "python3"
  },
  "language_info": {
   "codemirror_mode": {
    "name": "ipython",
    "version": 3
   },
   "file_extension": ".py",
   "mimetype": "text/x-python",
   "name": "python",
   "nbconvert_exporter": "python",
   "pygments_lexer": "ipython3",
   "version": "3.11.2"
  }
 },
 "nbformat": 4,
 "nbformat_minor": 5
}
