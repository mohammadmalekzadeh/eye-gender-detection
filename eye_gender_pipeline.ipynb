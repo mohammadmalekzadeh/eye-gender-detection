{
 "cells": [
  {
   "cell_type": "markdown",
   "id": "a12884cc",
   "metadata": {},
   "source": [
    "### Importing local modules"
   ]
  },
  {
   "cell_type": "code",
   "execution_count": null,
   "id": "51109ae6",
   "metadata": {},
   "outputs": [],
   "source": [
    "from src.utlis import BASE_DIR\n",
    "from src.preprocessing.label_creator import label_creator\n",
    "from src.preprocessing.image_processing import ImagePreprocessor\n",
    "from src.preprocessing.feature_extractor import FeatureExtractor\n",
    "from src.preprocessing.generate_dataset import generate_dataset\n",
    "from src.preprocessing.raw_data_processing import DataProcessing"
   ]
  },
  {
   "cell_type": "markdown",
   "id": "df126621",
   "metadata": {},
   "source": [
    "### Preprocessing"
   ]
  },
  {
   "cell_type": "code",
   "execution_count": 2,
   "id": "eba0cef8",
   "metadata": {},
   "outputs": [
    {
     "name": "stdout",
     "output_type": "stream",
     "text": [
      "[!] Images label saved to d:\\Programming\\My Projects\\eye-gender-detection/data/labels.csv\n"
     ]
    }
   ],
   "source": [
    "# create label dataset for images\n",
    "label_creator()"
   ]
  },
  {
   "cell_type": "code",
   "execution_count": 3,
   "id": "16a91cd5",
   "metadata": {},
   "outputs": [
    {
     "name": "stdout",
     "output_type": "stream",
     "text": [
      "[!] Processing images...\n"
     ]
    },
    {
     "name": "stderr",
     "output_type": "stream",
     "text": [
      "100%|██████████| 11525/11525 [15:47<00:00, 12.16it/s]\n"
     ]
    },
    {
     "name": "stdout",
     "output_type": "stream",
     "text": [
      "[!] Processed data saved to: d:\\Programming\\My Projects\\eye-gender-detection/data/raw/raw_data.csv\n"
     ]
    }
   ],
   "source": [
    "# image processing, feature extraction and create raw dataset\n",
    "generate_dataset()"
   ]
  },
  {
   "cell_type": "code",
   "execution_count": 4,
   "id": "b14d2f8d",
   "metadata": {},
   "outputs": [
    {
     "name": "stdout",
     "output_type": "stream",
     "text": [
      "[!] Handling missing values was Done\n",
      "[!] Splitting of test and train data was done\n",
      "[!] Standardization was Done\n",
      "[!] train_df, test_df and y_true Saved\n"
     ]
    }
   ],
   "source": [
    "# data processing and split train test data\n",
    "data_processing = DataProcessing(n_components=100)\n",
    "data_processing.transform()"
   ]
  },
  {
   "cell_type": "markdown",
   "id": "fc29d61f",
   "metadata": {},
   "source": [
    "### Model design"
   ]
  },
  {
   "cell_type": "code",
   "execution_count": null,
   "id": "98c1d75c",
   "metadata": {},
   "outputs": [],
   "source": [
    "# COMING SOON..."
   ]
  },
  {
   "cell_type": "markdown",
   "id": "5b02ac21",
   "metadata": {},
   "source": [
    "### Model training"
   ]
  },
  {
   "cell_type": "code",
   "execution_count": null,
   "id": "6e1405c0",
   "metadata": {},
   "outputs": [],
   "source": [
    "# COMING SOON..."
   ]
  },
  {
   "cell_type": "markdown",
   "id": "794d24a9",
   "metadata": {},
   "source": [
    "### Model evaluation"
   ]
  },
  {
   "cell_type": "code",
   "execution_count": null,
   "id": "0399db77",
   "metadata": {},
   "outputs": [],
   "source": [
    "# COMING SOON..."
   ]
  },
  {
   "cell_type": "markdown",
   "id": "e116b402",
   "metadata": {},
   "source": [
    "### Prediction"
   ]
  },
  {
   "cell_type": "code",
   "execution_count": null,
   "id": "925f4d7e",
   "metadata": {},
   "outputs": [],
   "source": [
    "# COMING SOON..."
   ]
  }
 ],
 "metadata": {
  "kernelspec": {
   "display_name": "Python 3",
   "language": "python",
   "name": "python3"
  },
  "language_info": {
   "codemirror_mode": {
    "name": "ipython",
    "version": 3
   },
   "file_extension": ".py",
   "mimetype": "text/x-python",
   "name": "python",
   "nbconvert_exporter": "python",
   "pygments_lexer": "ipython3",
   "version": "3.11.2"
  }
 },
 "nbformat": 4,
 "nbformat_minor": 5
}
